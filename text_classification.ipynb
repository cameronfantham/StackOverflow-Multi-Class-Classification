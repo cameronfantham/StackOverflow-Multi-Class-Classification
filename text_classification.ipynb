{
  "cells": [
    {
      "cell_type": "markdown",
      "metadata": {
        "id": "ItXfxkxvosLH"
      },
      "source": [
        "# Basic text classification"
      ]
    },
    {
      "cell_type": "markdown",
      "metadata": {
        "id": "Eg62Pmz3o83v"
      },
      "source": [
        "This notebook demonstrates multi-class text classification starting from plain text files stored on disk. A multi-class classifier is trained to predict the tag for a programming question on Stack Overflow.\n"
      ]
    },
    {
      "cell_type": "code",
      "execution_count": 252,
      "metadata": {
        "id": "8RZOuS9LWQvv"
      },
      "outputs": [],
      "source": [
        "import matplotlib.pyplot as plt\n",
        "import os\n",
        "import re\n",
        "import string\n",
        "import tensorflow as tf\n",
        "\n",
        "from tensorflow.keras import layers\n",
        "from tensorflow.keras import losses\n"
      ]
    },
    {
      "cell_type": "code",
      "execution_count": 253,
      "metadata": {
        "id": "6-tTFS04dChr",
        "outputId": "ccd03129-0c40-430e-d4b1-64790a4bc2b5",
        "colab": {
          "base_uri": "https://localhost:8080/"
        }
      },
      "outputs": [
        {
          "output_type": "stream",
          "name": "stdout",
          "text": [
            "2.9.2\n"
          ]
        }
      ],
      "source": [
        "print(tf.__version__)"
      ]
    },
    {
      "cell_type": "markdown",
      "metadata": {
        "id": "NBTI1bi8qdFV"
      },
      "source": [
        "## Sentiment analysis\n",
        "\n",
        "This notebook trains a sentiment analysis model to classify StackOverflow questions based on the programming language tag, based on the text of the review. This is an example of multi-class—classification, an important and widely applicable kind of machine learning problem.\n",
        "\n",
        "The dataset used is the [StackOverflow](https://ai.stanford.edu/~amaas/data/sentiment/) dataset prepared by Google that contains the text of 16,000 StackOverflow questions from the much larger [BigQuery](https://console.cloud.google.com/marketplace/details/stack-exchange/stack-overflow) dataset, which contains more than 17 million posts. These are split into 8,000 reviews for training and 8,000 reviews for testing. The training and testing sets are *balanced*, meaning they contain an equal number of questions from each class.\n"
      ]
    },
    {
      "cell_type": "markdown",
      "metadata": {
        "id": "iAsKG535pHep"
      },
      "source": [
        "### Download and explore the StackOverflow dataset\n",
        "\n",
        "Let's download and extract the dataset, then explore the directory structure."
      ]
    },
    {
      "cell_type": "code",
      "execution_count": 254,
      "metadata": {
        "id": "k7ZYnuajVlFN"
      },
      "outputs": [],
      "source": [
        "url = \"https://storage.googleapis.com/download.tensorflow.org/data/stack_overflow_16k.tar.gz\"\n",
        "\n",
        "dataset = tf.keras.utils.get_file(\"stack_overflow_16k\", url,\n",
        "                                    untar=True, cache_dir='.',\n",
        "                                    cache_subdir='')\n",
        "\n",
        "train_dataset_dir = os.path.join(os.path.dirname(dataset), 'train')\n",
        "test_dataset_dir = os.path.join(os.path.dirname(dataset), 'test')"
      ]
    },
    {
      "cell_type": "code",
      "execution_count": 255,
      "metadata": {
        "id": "355CfOvsV1pl",
        "outputId": "135a38b7-4007-4c9f-9530-0212dec9e149",
        "colab": {
          "base_uri": "https://localhost:8080/"
        }
      },
      "outputs": [
        {
          "output_type": "execute_result",
          "data": {
            "text/plain": [
              "['java', 'csharp', 'python', 'javascript']"
            ]
          },
          "metadata": {},
          "execution_count": 255
        }
      ],
      "source": [
        "os.listdir(train_dataset_dir)"
      ]
    },
    {
      "cell_type": "code",
      "source": [
        "os.listdir(test_dataset_dir)"
      ],
      "metadata": {
        "id": "VIxHI5wgb-wv",
        "outputId": "32a978eb-bc84-4921-ee26-246eb0762d8e",
        "colab": {
          "base_uri": "https://localhost:8080/"
        }
      },
      "execution_count": 256,
      "outputs": [
        {
          "output_type": "execute_result",
          "data": {
            "text/plain": [
              "['java', 'csharp', 'python', 'javascript']"
            ]
          },
          "metadata": {},
          "execution_count": 256
        }
      ]
    },
    {
      "cell_type": "markdown",
      "metadata": {
        "id": "ysMNMI1CWDFD"
      },
      "source": [
        "The `/train` and `/test` directories contain many text files, each of which is a single question. Let's take a look at one of them."
      ]
    },
    {
      "cell_type": "code",
      "execution_count": 257,
      "metadata": {
        "id": "R7g8hFvzWLIZ",
        "outputId": "40cb632f-09e6-4805-88cb-98c306d153d7",
        "colab": {
          "base_uri": "https://localhost:8080/"
        }
      },
      "outputs": [
        {
          "output_type": "stream",
          "name": "stdout",
          "text": [
            "\"add version to @@webservice i'm using blankx.jws.webservice to create my webservice, in addition to targetnamespace i would like to include a \"\"version\"\" attribute to mark the version of my service. what other tag can i use in addition to this one to accomplish this so my wdsl will look like:..&lt;schema targetnamespace=\"\"http://example.com/2009/02/15/webservice\"\" version=\"\"1.1\"\" xmlns=\"\"http://www.w3.org/2000/10/xmlschema&gt;...i.e. it has a version attribute\"\n",
            "\n"
          ]
        }
      ],
      "source": [
        "sample_file = os.path.join(train_dataset_dir, 'java/1.txt')\n",
        "with open(sample_file) as f:\n",
        "  print(f.read())"
      ]
    },
    {
      "cell_type": "markdown",
      "metadata": {
        "id": "Mk20TEm6ZRFP"
      },
      "source": [
        "### Load the dataset\n",
        "\n",
        "Next, the data must be loaded off disk and prepared into a format suitable for training. To do so, the helpful [text_dataset_from_directory](https://www.tensorflow.org/api_docs/python/tf/keras/preprocessing/text_dataset_from_directory) utility will be used, which expects a directory structure as follows.\n",
        "\n",
        "```\n",
        "main_directory/\n",
        "...class_a/\n",
        "......a_text_1.txt\n",
        "......a_text_2.txt\n",
        "...class_b/\n",
        "......b_text_1.txt\n",
        "......b_text_2.txt\n",
        "...class_c/\n",
        "......c_text_1.txt\n",
        "......c_text_2.txt\n",
        "...class_d/\n",
        "......d_text_1.txt\n",
        "......d_text_2.txt\n",
        ".\n",
        ".\n",
        ".\n",
        "\n",
        "```"
      ]
    },
    {
      "cell_type": "markdown",
      "metadata": {
        "id": "95kkUdRoaeMw"
      },
      "source": [
        "The `text_dataset_from_directory` utility is used to create a labeled `tf.data.Dataset`. [tf.data](https://www.tensorflow.org/guide/data) is a powerful collection of tools for working with data. \n",
        "\n",
        "Next, we divide the dataset into three splits: [train](https://developers.google.com/machine-learning/glossary#training_set), [validation](https://developers.google.com/machine-learning/glossary#validation_set), and [test](https://developers.google.com/machine-learning/glossary#test-set). \n",
        "\n",
        "The StackOverflow dataset has already been divided into train and test, but it lacks a validation set. Let's create a validation set using an 80:20 split of the training data by using the `validation_split` argument below."
      ]
    },
    {
      "cell_type": "code",
      "execution_count": 258,
      "metadata": {
        "id": "nOrK-MTYaw3C",
        "outputId": "31b85007-938c-4749-aee0-f4e001f9afdf",
        "colab": {
          "base_uri": "https://localhost:8080/"
        }
      },
      "outputs": [
        {
          "output_type": "stream",
          "name": "stdout",
          "text": [
            "Found 8000 files belonging to 4 classes.\n",
            "Using 6400 files for training.\n"
          ]
        }
      ],
      "source": [
        "batch_size = 32\n",
        "seed = 101\n",
        "\n",
        "raw_train_ds = tf.keras.utils.text_dataset_from_directory(\n",
        "    'train', \n",
        "    batch_size=batch_size, \n",
        "    validation_split=0.2, \n",
        "    subset='training', \n",
        "    seed=seed)"
      ]
    },
    {
      "cell_type": "markdown",
      "metadata": {
        "id": "5Y33oxOUpYkh"
      },
      "source": [
        "There are 8,000 questions in the training folder, we will use 80% (or 6,400) for training. The model can be trained by passing a dataset directly to `model.fit`. "
      ]
    },
    {
      "cell_type": "markdown",
      "metadata": {
        "id": "JWq1SUIrp1a-"
      },
      "source": [
        "Some questions contain raw text (with punctuation and occasional HTML tags like `<br/>`). This will be handled in the following section. \n",
        "\n",
        "The labels are 0, 1, 2, 3, which correspond to 'csharp', 'java', 'javascript', 'python', respectively, as verified below.\n"
      ]
    },
    {
      "cell_type": "code",
      "execution_count": 259,
      "metadata": {
        "id": "MlICTG8spyO2",
        "outputId": "f02b9a58-b658-4fff-a95f-a858efccfa10",
        "colab": {
          "base_uri": "https://localhost:8080/"
        }
      },
      "outputs": [
        {
          "output_type": "stream",
          "name": "stdout",
          "text": [
            "Label 0 corresponds to csharp\n",
            "Label 1 corresponds to java\n",
            "Label 2 corresponds to javascript\n",
            "Label 3 corresponds to python\n"
          ]
        }
      ],
      "source": [
        "print(\"Label 0 corresponds to\", raw_train_ds.class_names[0])\n",
        "print(\"Label 1 corresponds to\", raw_train_ds.class_names[1])\n",
        "print(\"Label 2 corresponds to\", raw_train_ds.class_names[2])\n",
        "print(\"Label 3 corresponds to\", raw_train_ds.class_names[3])"
      ]
    },
    {
      "cell_type": "markdown",
      "metadata": {
        "id": "pbdO39vYqdJr"
      },
      "source": [
        "The remaining 1,600 questions from the training set will be used for validation."
      ]
    },
    {
      "cell_type": "markdown",
      "metadata": {
        "id": "SzxazN8Hq1pF"
      },
      "source": [
        "Note:  When using the `validation_split` and `subset` arguments, a random seed must be specified, or `shuffle=False` passed as an argument, so that the validation and training splits have no overlap."
      ]
    },
    {
      "cell_type": "code",
      "execution_count": 260,
      "metadata": {
        "id": "JsMwwhOoqjKF",
        "outputId": "d2a840d6-d5af-48a9-d510-005a8f6eccad",
        "colab": {
          "base_uri": "https://localhost:8080/"
        }
      },
      "outputs": [
        {
          "output_type": "stream",
          "name": "stdout",
          "text": [
            "Found 8000 files belonging to 4 classes.\n",
            "Using 1600 files for validation.\n"
          ]
        }
      ],
      "source": [
        "raw_val_ds = tf.keras.utils.text_dataset_from_directory(\n",
        "    'train', \n",
        "    batch_size=batch_size, \n",
        "    validation_split=0.2, \n",
        "    subset='validation', \n",
        "    seed=seed)"
      ]
    },
    {
      "cell_type": "code",
      "execution_count": 261,
      "metadata": {
        "id": "rdSr0Nt3q_ns",
        "outputId": "88d06283-febe-4eb1-a147-515386c1a858",
        "colab": {
          "base_uri": "https://localhost:8080/"
        }
      },
      "outputs": [
        {
          "output_type": "stream",
          "name": "stdout",
          "text": [
            "Found 8000 files belonging to 4 classes.\n"
          ]
        }
      ],
      "source": [
        "raw_test_ds = tf.keras.utils.text_dataset_from_directory(\n",
        "    'test', \n",
        "    batch_size=batch_size)"
      ]
    },
    {
      "cell_type": "markdown",
      "metadata": {
        "id": "qJmTiO0IYAjm"
      },
      "source": [
        "### Prepare the dataset for training\n",
        "\n",
        "Next, the data must be standardized, tokenized, and vectorized using the helpful `tf.keras.layers.TextVectorization` layer. \n",
        "\n",
        "Standardization refers to preprocessing the text, typically to remove punctuation or HTML elements to simplify the dataset. Tokenization refers to splitting strings into tokens. Vectorization refers to converting tokens into numbers to be fed into a neural network. All of these tasks can be accomplished with this layer.\n",
        "\n",
        "As mentioned previously, some questions may contain various HTML tags like `<br />`, which will not be removed by the default standardizer in the `TextVectorization` layer. A custom standardization function to remove the HTML tags must be defined and passed as the 'standardize' argument to the vectorization layer."
      ]
    },
    {
      "cell_type": "markdown",
      "metadata": {
        "id": "ZVcHl-SLrH-u"
      },
      "source": [
        "Note: To prevent [training-testing skew](https://developers.google.com/machine-learning/guides/rules-of-ml#training-serving_skew) (also known as training-serving skew), it is important to preprocess the data identically at train and test time. To facilitate this, the `TextVectorization` layer can be included directly inside the model when deployed, as shown further down in the notebook."
      ]
    },
    {
      "cell_type": "code",
      "execution_count": 262,
      "metadata": {
        "id": "SDRI_s_tX1Hk"
      },
      "outputs": [],
      "source": [
        "def custom_standardization(input_data):\n",
        "  lowercase = tf.strings.lower(input_data)\n",
        "  stripped_html = tf.strings.regex_replace(lowercase, '<br />', ' ')\n",
        "  return tf.strings.regex_replace(stripped_html,\n",
        "                                  '[%s]' % re.escape(string.punctuation),\n",
        "                                  '')"
      ]
    },
    {
      "cell_type": "markdown",
      "metadata": {
        "id": "d2d3Aw8dsUux"
      },
      "source": [
        "When creating the `TextVectorization` layer to standardize, tokenize, and vectorize our data, the `output_mode` will be set to `int` to create unique integer indices for each token.\n",
        "\n",
        "Note: when using the default split function, and the custom standardization function defined above, some constants for the model must be defined. For example, an explicit maximum `sequence_length`, which will cause the layer to extend or truncate the sequenced questions to exactly `sequence_length` values.\n",
        "Another constant that must be defined is `max_features`, this specifies the maximum number of words that will be included in the total vocabulary of the model."
      ]
    },
    {
      "cell_type": "code",
      "execution_count": 263,
      "metadata": {
        "id": "-c76RvSzsMnX"
      },
      "outputs": [],
      "source": [
        "max_features = 10000\n",
        "sequence_length = 250\n",
        "\n",
        "vectorize_layer = layers.TextVectorization(\n",
        "    standardize=custom_standardization,\n",
        "    max_tokens=max_features,\n",
        "    output_mode='int',\n",
        "    output_sequence_length=sequence_length)"
      ]
    },
    {
      "cell_type": "markdown",
      "metadata": {
        "id": "vlFOpfF6scT6"
      },
      "source": [
        "Next, `adapt` will be called to fit the state of the preprocessing layer to the dataset. This will cause the model to build an index of strings to integers."
      ]
    },
    {
      "cell_type": "markdown",
      "metadata": {
        "id": "lAhdjK7AtroA"
      },
      "source": [
        "Note: It's important to only use the training data when calling adapt (using the test set would leak information to the model)."
      ]
    },
    {
      "cell_type": "code",
      "execution_count": 264,
      "metadata": {
        "id": "GH4_2ZGJsa_X"
      },
      "outputs": [],
      "source": [
        "# Make a text-only dataset (without labels), then call adapt\n",
        "train_text = raw_train_ds.map(lambda x, y: x)\n",
        "vectorize_layer.adapt(train_text)"
      ]
    },
    {
      "cell_type": "markdown",
      "metadata": {
        "id": "SHQVEFzNt-K_"
      },
      "source": [
        "A function to see the result of using this layer to preprocess some data is needed."
      ]
    },
    {
      "cell_type": "code",
      "execution_count": 265,
      "metadata": {
        "id": "SCIg_T50wOCU"
      },
      "outputs": [],
      "source": [
        "def vectorize_text(text, label):\n",
        "  text = tf.expand_dims(text, -1)\n",
        "  return vectorize_layer(text), label"
      ]
    },
    {
      "cell_type": "code",
      "execution_count": 266,
      "metadata": {
        "id": "XULcm6B3xQIO",
        "outputId": "aba1f675-346c-4398-d699-3397fcc800c9",
        "colab": {
          "base_uri": "https://localhost:8080/"
        }
      },
      "outputs": [
        {
          "output_type": "stream",
          "name": "stdout",
          "text": [
            "Question tf.Tensor(b'\"type mismatch : cannot convert from element type object to string i have a dropdown list that i want to fill via a database.i show  code  ..private string mavaleur; .private list&lt;selectitem&gt; meselements;..            public string getmavaleur() {.                return mavaleur;.            }.            public void setmavaleur(string mavaleur) {.                this.mavaleur = mavaleur;.            }.            public list getmaliste().            {.                arraylist&lt;string&gt; unelist = new arraylist();..                try { .                    class.forname(\"\"com.mysql.jdbc.driver\"\").newinstance(); .                     string servername = \"\"localhost\"\";.                        string mydatabase = \"\"gestionticket\"\";.                        string url = \"\"jdbc:mysql://\"\" + servername +\"\":3306\"\"+ \"\"/\"\"+ mydatabase; // a jdbc url.                         string user = \"\"root\"\";.                         string pass = \"\"\"\";...                     blank.sql.connection connection = drivermanager.getconnection(url, user, pass);.                             statement instruction = (statement) ((blank.sql.connection) connection).createstatement();....                             string sql = \"\"select * from gestionticket.client\"\" ;    .                                resultset resultat  = (resultset) instruction.executequery(sql);..                                while(resultat.next()){.                                    string nom=resultat.getstring(\"\"nom\"\").tostring();.                                    unelist.add(nom);..                                }.                    //session.close();.                } catch (exception e) {.                    e.printstacktrace();.                }..                return (list) unelist;.            }.            public list&lt;selectitem&gt; getmeselements() {.                 if (meselements == null) {.                     meselements = new arraylist&lt;selectitem&gt;();.                     for (string val : getmaliste()) {.                         meselements.add(new selectitem(val));.                     }.                 }.                return meselements;.            }...by an error msg appears at line level..for (string val : getmaliste() {.                   meselements.add(new selectitem(val));.               }...here is the msg error:...  type mismatch: cannot convert from element type object to string...if you have any idea about this compilation error; help me\"\\n', shape=(), dtype=string)\n",
            "Label java\n",
            "Vectorized question (<tf.Tensor: shape=(1, 250), dtype=int64, numpy=\n",
            "array([[ 119, 3216,  204,  217,   32,  244,  119,   60,    4,   18,    3,\n",
            "          17,    5, 1176,   55,   14,    3,   44,    4,  962,  728,    5,\n",
            "           1,  259,   29,   85,   18, 9482,   85,    1, 9464,   20,   18,\n",
            "           1,   27, 9482,   20,   41,    1, 9482,    1, 9482,   20,   55,\n",
            "           1, 1216,    1,   15,  620,  123,    1,   18, 6198, 2791,   18,\n",
            "           1,    1,   18,  265,    1, 6198,    1,    1,    5, 7697,  265,\n",
            "          18,  101,  712,   18,  252,    1,  664,    1,  101,  252,  241,\n",
            "        2924,  241,    1,    1,   18,  783,  365,   32,    1, 3192, 4121,\n",
            "        3192,    1,    1,   18,    1,    1,    1,  232,  190,  135,  952,\n",
            "          27,   55,    1,   20,    1,    1,   10, 9464,  114, 9464,   15,\n",
            "           1,   12,   18,  622,    1,    1,    1,   27, 9464,   76,   31,\n",
            "          67,  950,  907,   62,   78,    1,   18,  622,    1,    1,    1,\n",
            "          96,    6,    2,  950,   67,  119, 3216,  204,  217,   32,  244,\n",
            "         119,   60,    4,    1,   61,   17,   75,  391,  210,   13, 2406,\n",
            "          67,  103,   73,    0,    0,    0,    0,    0,    0,    0,    0,\n",
            "           0,    0,    0,    0,    0,    0,    0,    0,    0,    0,    0,\n",
            "           0,    0,    0,    0,    0,    0,    0,    0,    0,    0,    0,\n",
            "           0,    0,    0,    0,    0,    0,    0,    0,    0,    0,    0,\n",
            "           0,    0,    0,    0,    0,    0,    0,    0,    0,    0,    0,\n",
            "           0,    0,    0,    0,    0,    0,    0,    0,    0,    0,    0,\n",
            "           0,    0,    0,    0,    0,    0,    0,    0,    0,    0,    0,\n",
            "           0,    0,    0,    0,    0,    0,    0,    0,    0,    0,    0,\n",
            "           0,    0,    0,    0,    0,    0,    0,    0]])>, <tf.Tensor: shape=(), dtype=int32, numpy=1>)\n"
          ]
        }
      ],
      "source": [
        "# retrieve a batch (of 32 reviews and labels) from the dataset\n",
        "text_batch, label_batch = next(iter(raw_train_ds))\n",
        "first_question, first_label = text_batch[0], label_batch[0]\n",
        "print(\"Question\", first_question)\n",
        "print(\"Label\", raw_train_ds.class_names[first_label])\n",
        "print(\"Vectorized question\", vectorize_text(first_question, first_label))"
      ]
    },
    {
      "cell_type": "markdown",
      "metadata": {
        "id": "6u5EX0hxyNZT"
      },
      "source": [
        "Tokens are replaced by integers. By calling `.get_vocabulary()` on the layer, the word corresponding to a specific token can be displayed."
      ]
    },
    {
      "cell_type": "code",
      "execution_count": 267,
      "metadata": {
        "id": "kRq9hTQzhVhW",
        "outputId": "d88dbafa-790b-4cae-b05a-ce69eb2b2d8a",
        "colab": {
          "base_uri": "https://localhost:8080/"
        }
      },
      "outputs": [
        {
          "output_type": "stream",
          "name": "stdout",
          "text": [
            "1287 --->  con\n",
            " 313 --->  order\n",
            "Vocabulary size: 10000\n"
          ]
        }
      ],
      "source": [
        "print(\"1287 ---> \",vectorize_layer.get_vocabulary()[1287])\n",
        "print(\" 313 ---> \",vectorize_layer.get_vocabulary()[313])\n",
        "print('Vocabulary size: {}'.format(len(vectorize_layer.get_vocabulary())))"
      ]
    },
    {
      "cell_type": "markdown",
      "metadata": {
        "id": "XD2H6utRydGv"
      },
      "source": [
        "TextVectorization is now applied to each dataset."
      ]
    },
    {
      "cell_type": "code",
      "execution_count": 268,
      "metadata": {
        "id": "2zhmpeViI1iG"
      },
      "outputs": [],
      "source": [
        "train_ds = raw_train_ds.map(vectorize_text)\n",
        "val_ds = raw_val_ds.map(vectorize_text)\n",
        "test_ds = raw_test_ds.map(vectorize_text)"
      ]
    },
    {
      "cell_type": "markdown",
      "metadata": {
        "id": "YsVQyPMizjuO"
      },
      "source": [
        "### Configure the dataset for performance\n",
        "\n",
        "These are two important methods that can be used when loading data to make sure that I/O does not become blocking.\n",
        "\n",
        "`.cache()` keeps data in memory after it's loaded off disk. This will ensure the dataset does not become a bottleneck while training the model.\n",
        "\n",
        "`.prefetch()` overlaps data preprocessing and model execution while training. \n",
        "\n",
        "More information about both methods, as well as how to cache data to disk can be found at [data performance guide](https://www.tensorflow.org/guide/data_performance)."
      ]
    },
    {
      "cell_type": "code",
      "execution_count": 269,
      "metadata": {
        "id": "wMcs_H7izm5m"
      },
      "outputs": [],
      "source": [
        "AUTOTUNE = tf.data.AUTOTUNE\n",
        "\n",
        "train_ds = train_ds.cache().prefetch(buffer_size=AUTOTUNE)\n",
        "val_ds = val_ds.cache().prefetch(buffer_size=AUTOTUNE)\n",
        "test_ds = test_ds.cache().prefetch(buffer_size=AUTOTUNE)"
      ]
    },
    {
      "cell_type": "markdown",
      "metadata": {
        "id": "LLC02j2g-llC"
      },
      "source": [
        "### Create the neural network:"
      ]
    },
    {
      "cell_type": "code",
      "execution_count": 270,
      "metadata": {
        "id": "dkQP6in8yUBR"
      },
      "outputs": [],
      "source": [
        "embedding_dim = 16"
      ]
    },
    {
      "cell_type": "code",
      "execution_count": 271,
      "metadata": {
        "id": "xpKOoWgu-llD",
        "outputId": "9091ae78-99ed-452f-a13b-d2bac910900b",
        "colab": {
          "base_uri": "https://localhost:8080/"
        }
      },
      "outputs": [
        {
          "output_type": "stream",
          "name": "stdout",
          "text": [
            "Model: \"sequential_16\"\n",
            "_________________________________________________________________\n",
            " Layer (type)                Output Shape              Param #   \n",
            "=================================================================\n",
            " embedding_8 (Embedding)     (None, None, 16)          160016    \n",
            "                                                                 \n",
            " dropout_16 (Dropout)        (None, None, 16)          0         \n",
            "                                                                 \n",
            " global_average_pooling1d_8   (None, 16)               0         \n",
            " (GlobalAveragePooling1D)                                        \n",
            "                                                                 \n",
            " dropout_17 (Dropout)        (None, 16)                0         \n",
            "                                                                 \n",
            " dense_8 (Dense)             (None, 4)                 68        \n",
            "                                                                 \n",
            "=================================================================\n",
            "Total params: 160,084\n",
            "Trainable params: 160,084\n",
            "Non-trainable params: 0\n",
            "_________________________________________________________________\n"
          ]
        }
      ],
      "source": [
        "model = tf.keras.Sequential([\n",
        "  layers.Embedding(max_features + 1, embedding_dim),\n",
        "  layers.Dropout(0.5),\n",
        "  layers.GlobalAveragePooling1D(),\n",
        "  layers.Dropout(0.5),\n",
        "  layers.Dense(4, activation='softmax')])\n",
        "\n",
        "model.summary()"
      ]
    },
    {
      "cell_type": "markdown",
      "metadata": {
        "id": "6PbKQ6mucuKL"
      },
      "source": [
        "The layers are stacked sequentially to build the classifier:\n",
        "\n",
        "1. The first layer is an `Embedding` layer. This layer takes the integer-encoded questions and looks up an embedding vector for each word-index. These vectors are learned as the model trains. The vectors add a dimension to the output array. The resulting dimensions are: `(batch, sequence, embedding)`.  More about embeddings: [Word embeddings](https://www.tensorflow.org/text/guide/word_embeddings).\n",
        "2. A `GlobalAveragePooling1D` layer gives a fixed-length output vector for each question by averaging over the sequence dimension, allowing the model to handle inputs of variable length.\n",
        "3. The fixed-length output vector is piped through a dense layer with 16 hidden nodes. \n",
        "4. The last layer is densely connected with 4 output nodes, one for each class."
      ]
    },
    {
      "cell_type": "markdown",
      "metadata": {
        "id": "L4EqVWg4-llM"
      },
      "source": [
        "### Loss function and optimizer\n",
        "\n",
        "Since this is a multi-class-classification problem and the model outputs probabilities (a four-node-layer with a SoftMax activation function), the `losses.SparseCategoricalCrossentropy` loss function is used."
      ]
    },
    {
      "cell_type": "code",
      "execution_count": 272,
      "metadata": {
        "id": "Mr0GP-cQ-llN"
      },
      "outputs": [],
      "source": [
        "model.compile(loss=losses.SparseCategoricalCrossentropy(from_logits=True),\n",
        "              optimizer='adam',\n",
        "              metrics=['accuracy'])\n",
        "\n"
      ]
    },
    {
      "cell_type": "markdown",
      "metadata": {
        "id": "35jv_fzP-llU"
      },
      "source": [
        "### Train the model"
      ]
    },
    {
      "cell_type": "code",
      "execution_count": 273,
      "metadata": {
        "id": "tXSGrjWZ-llW",
        "outputId": "0bb4046e-3b18-47dd-8cfb-1b9be6c756da",
        "colab": {
          "base_uri": "https://localhost:8080/"
        }
      },
      "outputs": [
        {
          "output_type": "stream",
          "name": "stdout",
          "text": [
            "Epoch 1/40\n",
            "200/200 [==============================] - 3s 12ms/step - loss: 1.3813 - accuracy: 0.3034 - val_loss: 1.3760 - val_accuracy: 0.4100\n",
            "Epoch 2/40\n",
            "200/200 [==============================] - 1s 4ms/step - loss: 1.3633 - accuracy: 0.4087 - val_loss: 1.3544 - val_accuracy: 0.4631\n",
            "Epoch 3/40\n",
            "200/200 [==============================] - 1s 4ms/step - loss: 1.3331 - accuracy: 0.4636 - val_loss: 1.3173 - val_accuracy: 0.4931\n",
            "Epoch 4/40\n",
            "200/200 [==============================] - 1s 4ms/step - loss: 1.2877 - accuracy: 0.5267 - val_loss: 1.2681 - val_accuracy: 0.5312\n",
            "Epoch 5/40\n",
            "200/200 [==============================] - 1s 4ms/step - loss: 1.2327 - accuracy: 0.5678 - val_loss: 1.2112 - val_accuracy: 0.5556\n",
            "Epoch 6/40\n",
            "200/200 [==============================] - 1s 4ms/step - loss: 1.1740 - accuracy: 0.5869 - val_loss: 1.1519 - val_accuracy: 0.5944\n",
            "Epoch 7/40\n",
            "200/200 [==============================] - 1s 4ms/step - loss: 1.1198 - accuracy: 0.6191 - val_loss: 1.0955 - val_accuracy: 0.6169\n",
            "Epoch 8/40\n",
            "200/200 [==============================] - 1s 4ms/step - loss: 1.0668 - accuracy: 0.6517 - val_loss: 1.0453 - val_accuracy: 0.6369\n",
            "Epoch 9/40\n",
            "200/200 [==============================] - 1s 4ms/step - loss: 1.0166 - accuracy: 0.6781 - val_loss: 0.9997 - val_accuracy: 0.6606\n",
            "Epoch 10/40\n",
            "200/200 [==============================] - 1s 4ms/step - loss: 0.9720 - accuracy: 0.6900 - val_loss: 0.9574 - val_accuracy: 0.6694\n",
            "Epoch 11/40\n",
            "200/200 [==============================] - 1s 4ms/step - loss: 0.9350 - accuracy: 0.7089 - val_loss: 0.9199 - val_accuracy: 0.6819\n",
            "Epoch 12/40\n",
            "200/200 [==============================] - 1s 4ms/step - loss: 0.8949 - accuracy: 0.7214 - val_loss: 0.8854 - val_accuracy: 0.6969\n",
            "Epoch 13/40\n",
            "200/200 [==============================] - 1s 4ms/step - loss: 0.8626 - accuracy: 0.7350 - val_loss: 0.8553 - val_accuracy: 0.7050\n",
            "Epoch 14/40\n",
            "200/200 [==============================] - 1s 4ms/step - loss: 0.8313 - accuracy: 0.7456 - val_loss: 0.8283 - val_accuracy: 0.7088\n",
            "Epoch 15/40\n",
            "200/200 [==============================] - 1s 4ms/step - loss: 0.7987 - accuracy: 0.7611 - val_loss: 0.8021 - val_accuracy: 0.7231\n",
            "Epoch 16/40\n",
            "200/200 [==============================] - 1s 4ms/step - loss: 0.7722 - accuracy: 0.7630 - val_loss: 0.7819 - val_accuracy: 0.7188\n",
            "Epoch 17/40\n",
            "200/200 [==============================] - 1s 4ms/step - loss: 0.7521 - accuracy: 0.7689 - val_loss: 0.7618 - val_accuracy: 0.7312\n",
            "Epoch 18/40\n",
            "200/200 [==============================] - 1s 4ms/step - loss: 0.7272 - accuracy: 0.7744 - val_loss: 0.7433 - val_accuracy: 0.7362\n",
            "Epoch 19/40\n",
            "200/200 [==============================] - 1s 4ms/step - loss: 0.7047 - accuracy: 0.7880 - val_loss: 0.7252 - val_accuracy: 0.7437\n",
            "Epoch 20/40\n",
            "200/200 [==============================] - 1s 4ms/step - loss: 0.6840 - accuracy: 0.7950 - val_loss: 0.7103 - val_accuracy: 0.7469\n",
            "Epoch 21/40\n",
            "200/200 [==============================] - 1s 4ms/step - loss: 0.6760 - accuracy: 0.7927 - val_loss: 0.6978 - val_accuracy: 0.7469\n",
            "Epoch 22/40\n",
            "200/200 [==============================] - 1s 4ms/step - loss: 0.6516 - accuracy: 0.7975 - val_loss: 0.6845 - val_accuracy: 0.7531\n",
            "Epoch 23/40\n",
            "200/200 [==============================] - 1s 4ms/step - loss: 0.6388 - accuracy: 0.8012 - val_loss: 0.6733 - val_accuracy: 0.7525\n",
            "Epoch 24/40\n",
            "200/200 [==============================] - 1s 4ms/step - loss: 0.6212 - accuracy: 0.8048 - val_loss: 0.6623 - val_accuracy: 0.7563\n",
            "Epoch 25/40\n",
            "200/200 [==============================] - 1s 4ms/step - loss: 0.6045 - accuracy: 0.8202 - val_loss: 0.6511 - val_accuracy: 0.7656\n",
            "Epoch 26/40\n",
            "200/200 [==============================] - 1s 4ms/step - loss: 0.5958 - accuracy: 0.8192 - val_loss: 0.6421 - val_accuracy: 0.7644\n",
            "Epoch 27/40\n",
            "200/200 [==============================] - 1s 4ms/step - loss: 0.5728 - accuracy: 0.8225 - val_loss: 0.6326 - val_accuracy: 0.7688\n",
            "Epoch 28/40\n",
            "200/200 [==============================] - 1s 4ms/step - loss: 0.5658 - accuracy: 0.8208 - val_loss: 0.6249 - val_accuracy: 0.7675\n",
            "Epoch 29/40\n",
            "200/200 [==============================] - 1s 4ms/step - loss: 0.5569 - accuracy: 0.8320 - val_loss: 0.6160 - val_accuracy: 0.7744\n",
            "Epoch 30/40\n",
            "200/200 [==============================] - 1s 4ms/step - loss: 0.5375 - accuracy: 0.8347 - val_loss: 0.6097 - val_accuracy: 0.7775\n",
            "Epoch 31/40\n",
            "200/200 [==============================] - 1s 4ms/step - loss: 0.5253 - accuracy: 0.8416 - val_loss: 0.6036 - val_accuracy: 0.7794\n",
            "Epoch 32/40\n",
            "200/200 [==============================] - 1s 4ms/step - loss: 0.5219 - accuracy: 0.8367 - val_loss: 0.5968 - val_accuracy: 0.7837\n",
            "Epoch 33/40\n",
            "200/200 [==============================] - 1s 4ms/step - loss: 0.5088 - accuracy: 0.8445 - val_loss: 0.5910 - val_accuracy: 0.7831\n",
            "Epoch 34/40\n",
            "200/200 [==============================] - 1s 4ms/step - loss: 0.4939 - accuracy: 0.8502 - val_loss: 0.5849 - val_accuracy: 0.7881\n",
            "Epoch 35/40\n",
            "200/200 [==============================] - 1s 4ms/step - loss: 0.4862 - accuracy: 0.8534 - val_loss: 0.5806 - val_accuracy: 0.7900\n",
            "Epoch 36/40\n",
            "200/200 [==============================] - 1s 4ms/step - loss: 0.4752 - accuracy: 0.8541 - val_loss: 0.5767 - val_accuracy: 0.7894\n",
            "Epoch 37/40\n",
            "200/200 [==============================] - 1s 4ms/step - loss: 0.4667 - accuracy: 0.8519 - val_loss: 0.5723 - val_accuracy: 0.7900\n",
            "Epoch 38/40\n",
            "200/200 [==============================] - 1s 4ms/step - loss: 0.4663 - accuracy: 0.8595 - val_loss: 0.5693 - val_accuracy: 0.7906\n",
            "Epoch 39/40\n",
            "200/200 [==============================] - 1s 4ms/step - loss: 0.4533 - accuracy: 0.8647 - val_loss: 0.5639 - val_accuracy: 0.7944\n",
            "Epoch 40/40\n",
            "200/200 [==============================] - 1s 4ms/step - loss: 0.4438 - accuracy: 0.8641 - val_loss: 0.5605 - val_accuracy: 0.7937\n"
          ]
        }
      ],
      "source": [
        "epochs = 40\n",
        "callback = tf.keras.callbacks.EarlyStopping(monitor='loss', patience=2)\n",
        "history = model.fit(\n",
        "    train_ds,\n",
        "    validation_data=val_ds,\n",
        "    epochs=epochs,\n",
        "    callbacks=[callback])"
      ]
    },
    {
      "cell_type": "markdown",
      "metadata": {
        "id": "9EEGuDVuzb5r"
      },
      "source": [
        "### Evaluate the model\n",
        "\n",
        "To see how the model performs, two values will be returned, loss and accuracy."
      ]
    },
    {
      "cell_type": "code",
      "execution_count": 274,
      "metadata": {
        "id": "zOMKywn4zReN",
        "outputId": "779982cd-5fea-40db-f7d8-efc3821aec17",
        "colab": {
          "base_uri": "https://localhost:8080/"
        }
      },
      "outputs": [
        {
          "output_type": "stream",
          "name": "stdout",
          "text": [
            "250/250 [==============================] - 2s 8ms/step - loss: 0.5653 - accuracy: 0.7971\n",
            "Loss:  0.565345287322998\n",
            "Accuracy:  0.797124981880188\n"
          ]
        }
      ],
      "source": [
        "loss, accuracy = model.evaluate(test_ds)\n",
        "\n",
        "print(\"Loss: \", loss)\n",
        "print(\"Accuracy: \", accuracy)"
      ]
    },
    {
      "cell_type": "markdown",
      "metadata": {
        "id": "ldbQqCw2Xc1W"
      },
      "source": [
        "### Create a plot of accuracy and loss over time\n",
        "\n",
        "`model.fit()` returns a `History` object that contains a dictionary with everything that happened during training:"
      ]
    },
    {
      "cell_type": "code",
      "execution_count": 275,
      "metadata": {
        "id": "-YcvZsdvWfDf",
        "outputId": "631530a1-4885-4b69-8034-494bd9e3549d",
        "colab": {
          "base_uri": "https://localhost:8080/"
        }
      },
      "outputs": [
        {
          "output_type": "execute_result",
          "data": {
            "text/plain": [
              "dict_keys(['loss', 'accuracy', 'val_loss', 'val_accuracy'])"
            ]
          },
          "metadata": {},
          "execution_count": 275
        }
      ],
      "source": [
        "history_dict = history.history\n",
        "history_dict.keys()"
      ]
    },
    {
      "cell_type": "markdown",
      "metadata": {
        "id": "1_CH32qJXruI"
      },
      "source": [
        "There are four entries: one for each monitored metric during training and validation, used to plot the training and validation loss for comparison, as well as the training and validation accuracy."
      ]
    },
    {
      "cell_type": "code",
      "execution_count": 276,
      "metadata": {
        "id": "2SEMeQ5YXs8z",
        "outputId": "db70e0ee-f775-46bf-bdcc-ff75c27d54e8",
        "colab": {
          "base_uri": "https://localhost:8080/",
          "height": 295
        }
      },
      "outputs": [
        {
          "output_type": "display_data",
          "data": {
            "text/plain": [
              "<Figure size 432x288 with 1 Axes>"
            ],
            "image/png": "[encoded data removed]"
          },
          "metadata": {
            "needs_background": "light"
          }
        }
      ],
      "source": [
        "acc = history_dict['accuracy']\n",
        "val_acc = history_dict['val_accuracy']\n",
        "loss = history_dict['loss']\n",
        "val_loss = history_dict['val_loss']\n",
        "\n",
        "epochs = range(1, len(acc) + 1)\n",
        "\n",
        "# \"bo\" is for \"blue dot\"\n",
        "plt.plot(epochs, loss, 'bo', label='Training loss')\n",
        "# b is for \"solid blue line\"\n",
        "plt.plot(epochs, val_loss, 'b', label='Validation loss')\n",
        "plt.title('Training and validation loss')\n",
        "plt.xlabel('Epochs')\n",
        "plt.ylabel('Loss')\n",
        "plt.legend()\n",
        "\n",
        "plt.show()"
      ]
    },
    {
      "cell_type": "code",
      "execution_count": 277,
      "metadata": {
        "id": "Z3PJemLPXwz_",
        "outputId": "28a9d09f-da1d-41ec-b414-ae272243b25a",
        "colab": {
          "base_uri": "https://localhost:8080/",
          "height": 295
        }
      },
      "outputs": [
        {
          "output_type": "display_data",
          "data": {
            "text/plain": [
              "<Figure size 432x288 with 1 Axes>"
            ],
            "image/png": "[encoded data removed]"
          },
          "metadata": {
            "needs_background": "light"
          }
        }
      ],
      "source": [
        "plt.plot(epochs, acc, 'bo', label='Training acc')\n",
        "plt.plot(epochs, val_acc, 'b', label='Validation acc')\n",
        "plt.title('Training and validation accuracy')\n",
        "plt.xlabel('Epochs')\n",
        "plt.ylabel('Accuracy')\n",
        "plt.legend(loc='lower right')\n",
        "\n",
        "plt.show()"
      ]
    },
    {
      "cell_type": "markdown",
      "metadata": {
        "id": "hFFyCuJoXy7r"
      },
      "source": [
        "In this plot, the dots represent the training loss and accuracy, and the solid lines are the validation loss and accuracy.\n",
        "\n",
        "To prevent overfitting, `tf.keras.callbacks.EarlyStopping` callback was used."
      ]
    },
    {
      "cell_type": "markdown",
      "metadata": {
        "id": "-to23J3Vy5d3"
      },
      "source": [
        "## Export the model\n",
        "\n",
        "In the code above, `TextVectorization` was applied to the dataset before feeding text to the model. To make the model capable of processing raw strings, the `TextVectorization` layer can be included inside the model, as mentioned earlier in the notebook."
      ]
    },
    {
      "cell_type": "code",
      "execution_count": 278,
      "metadata": {
        "id": "FWXsMvryuZuq",
        "outputId": "46751728-8c87-4bb7-8b89-7f57b10c9d96",
        "colab": {
          "base_uri": "https://localhost:8080/"
        }
      },
      "outputs": [
        {
          "output_type": "stream",
          "name": "stdout",
          "text": [
            "250/250 [==============================] - 2s 9ms/step - loss: 1.0229 - accuracy: 0.7971\n",
            "0.797124981880188\n"
          ]
        }
      ],
      "source": [
        "export_model = tf.keras.Sequential([\n",
        "  vectorize_layer,\n",
        "  model,\n",
        "  layers.Activation('softmax')\n",
        "])\n",
        "\n",
        "export_model.compile(\n",
        "    loss=tf.keras.losses.SparseCategoricalCrossentropy(from_logits=True), optimizer=\"adam\", metrics=['accuracy']\n",
        ")\n",
        "\n",
        "# Test it with `raw_test_ds`, which yields raw strings\n",
        "loss, accuracy = export_model.evaluate(raw_test_ds)\n",
        "print(accuracy)"
      ]
    },
    {
      "cell_type": "markdown",
      "metadata": {
        "id": "TwQgoN88LoEF"
      },
      "source": [
        "### Inference on new data\n",
        "\n",
        "Call `model.predict()` to get model predictions"
      ]
    },
    {
      "cell_type": "code",
      "execution_count": 279,
      "metadata": {
        "id": "QW355HH5L49K",
        "outputId": "a4c41a32-8c6b-48ae-84d7-f0c044a6a062",
        "colab": {
          "base_uri": "https://localhost:8080/"
        }
      },
      "outputs": [
        {
          "output_type": "stream",
          "name": "stdout",
          "text": [
            "1/1 [==============================] - 0s 105ms/step\n"
          ]
        },
        {
          "output_type": "execute_result",
          "data": {
            "text/plain": [
              "array([[0.213118  , 0.21026985, 0.24377336, 0.33283874],\n",
              "       [0.2501551 , 0.24777105, 0.26674488, 0.23532899],\n",
              "       [0.24968378, 0.24331206, 0.27226436, 0.23473977]], dtype=float32)"
            ]
          },
          "metadata": {},
          "execution_count": 279
        }
      ],
      "source": [
        "examples = [\n",
        "  \"how to dynamic print() def function\",\n",
        "  \"The movie was okay.\",\n",
        "  \"The movie was terrible...\"\n",
        "]\n",
        "\n",
        "export_model.predict(examples)"
      ]
    },
    {
      "cell_type": "markdown",
      "metadata": {
        "id": "MaxlpFWpzR6c"
      },
      "source": [
        "Including the text preprocessing logic inside the model enables exportation of a model for production that simplifies deployment, and reduces the potential for [train/test skew](https://developers.google.com/machine-learning/guides/rules-of-ml#training-serving_skew).\n",
        "\n",
        "There is a performance difference to keep in mind when choosing where to apply the TextVectorization layer. Using it outside the model enables asynchronous CPU processing and buffering of data when training on GPU. When training a model on GPU, this option can be used to get the best performance while developing the model, then the TextVectorization layer can be included inside the model when it's ready for deployment.\n",
        "\n",
        "See this [tutorial](https://www.tensorflow.org/tutorials/keras/save_and_load) for more information about saving models."
      ]
    }
  ],
  "metadata": {
    "accelerator": "GPU",
    "colab": {
      "name": "text_classification.ipynb",
      "toc_visible": true,
      "provenance": []
    },
    "kernelspec": {
      "display_name": "Python 3",
      "name": "python3"
    }
  },
  "nbformat": 4,
  "nbformat_minor": 0
}